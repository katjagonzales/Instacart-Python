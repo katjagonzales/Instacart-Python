{
 "cells": [
  {
   "cell_type": "markdown",
   "id": "c7a30639",
   "metadata": {},
   "source": [
    "# Task 4.2 Jupyter Fundamentals & Python Data Types"
   ]
  },
  {
   "cell_type": "markdown",
   "id": "2597d8d4",
   "metadata": {},
   "source": [
    "# Table of contents\n",
    "#### 1. Importing Libraries\n",
    "#### 2. Data Types"
   ]
  },
  {
   "cell_type": "markdown",
   "id": "4f282294",
   "metadata": {},
   "source": [
    "# 01. Importing Libraries"
   ]
  },
  {
   "cell_type": "code",
   "execution_count": 1,
   "id": "a5dd1fa9",
   "metadata": {},
   "outputs": [],
   "source": [
    "import pandas as pd\n",
    "import numpy as np\n",
    "import os"
   ]
  },
  {
   "cell_type": "markdown",
   "id": "454402a6",
   "metadata": {},
   "source": [
    "# 02. Data Types"
   ]
  },
  {
   "cell_type": "code",
   "execution_count": 2,
   "id": "4537bcf4",
   "metadata": {},
   "outputs": [],
   "source": [
    "x = 40"
   ]
  },
  {
   "cell_type": "code",
   "execution_count": 3,
   "id": "9d3f84cc",
   "metadata": {},
   "outputs": [
    {
     "data": {
      "text/plain": [
       "100"
      ]
     },
     "execution_count": 3,
     "metadata": {},
     "output_type": "execute_result"
    }
   ],
   "source": [
    "x + 60"
   ]
  },
  {
   "cell_type": "code",
   "execution_count": 4,
   "id": "843e4256",
   "metadata": {},
   "outputs": [],
   "source": [
    "y = 30"
   ]
  },
  {
   "cell_type": "code",
   "execution_count": 5,
   "id": "b8bdcb58",
   "metadata": {},
   "outputs": [
    {
     "data": {
      "text/plain": [
       "100"
      ]
     },
     "execution_count": 5,
     "metadata": {},
     "output_type": "execute_result"
    }
   ],
   "source": [
    "x + y + y"
   ]
  },
  {
   "cell_type": "code",
   "execution_count": 6,
   "id": "3585b852",
   "metadata": {},
   "outputs": [],
   "source": [
    "z = 140"
   ]
  },
  {
   "cell_type": "code",
   "execution_count": 7,
   "id": "7c48b4f3",
   "metadata": {},
   "outputs": [
    {
     "data": {
      "text/plain": [
       "100"
      ]
     },
     "execution_count": 7,
     "metadata": {},
     "output_type": "execute_result"
    }
   ],
   "source": [
    "z - x"
   ]
  },
  {
   "cell_type": "code",
   "execution_count": 8,
   "id": "c3f8f444",
   "metadata": {},
   "outputs": [],
   "source": [
    "a = 4.75"
   ]
  },
  {
   "cell_type": "code",
   "execution_count": 9,
   "id": "7b868536",
   "metadata": {},
   "outputs": [],
   "source": [
    "b = 9.365"
   ]
  },
  {
   "cell_type": "code",
   "execution_count": 10,
   "id": "b1701ccd",
   "metadata": {},
   "outputs": [
    {
     "data": {
      "text/plain": [
       "0.5072076882007475"
      ]
     },
     "execution_count": 10,
     "metadata": {},
     "output_type": "execute_result"
    }
   ],
   "source": [
    "a / b"
   ]
  },
  {
   "cell_type": "code",
   "execution_count": 11,
   "id": "c8fa44f1",
   "metadata": {},
   "outputs": [],
   "source": [
    "a = 'yes'"
   ]
  },
  {
   "cell_type": "code",
   "execution_count": 12,
   "id": "b15b0763",
   "metadata": {},
   "outputs": [],
   "source": [
    "b = 'ter'"
   ]
  },
  {
   "cell_type": "code",
   "execution_count": 13,
   "id": "37370a76",
   "metadata": {},
   "outputs": [],
   "source": [
    "c = 'day'"
   ]
  },
  {
   "cell_type": "code",
   "execution_count": 14,
   "id": "471bb8b8",
   "metadata": {},
   "outputs": [
    {
     "data": {
      "text/plain": [
       "'yesterday'"
      ]
     },
     "execution_count": 14,
     "metadata": {},
     "output_type": "execute_result"
    }
   ],
   "source": [
    "a + b + c"
   ]
  },
  {
   "cell_type": "code",
   "execution_count": 15,
   "id": "d51eee2d",
   "metadata": {},
   "outputs": [],
   "source": [
    "a = 'See '"
   ]
  },
  {
   "cell_type": "code",
   "execution_count": 16,
   "id": "4be6cdc9",
   "metadata": {},
   "outputs": [],
   "source": [
    "b = 'you '"
   ]
  },
  {
   "cell_type": "code",
   "execution_count": 17,
   "id": "4d942638",
   "metadata": {},
   "outputs": [],
   "source": [
    "c = 'tomorrow, '"
   ]
  },
  {
   "cell_type": "code",
   "execution_count": 18,
   "id": "587a4d7a",
   "metadata": {},
   "outputs": [],
   "source": [
    "d = 'friend!'"
   ]
  },
  {
   "cell_type": "code",
   "execution_count": 19,
   "id": "e99e271a",
   "metadata": {},
   "outputs": [
    {
     "data": {
      "text/plain": [
       "'See you tomorrow, friend!'"
      ]
     },
     "execution_count": 19,
     "metadata": {},
     "output_type": "execute_result"
    }
   ],
   "source": [
    "a + b + c + d"
   ]
  },
  {
   "cell_type": "code",
   "execution_count": 21,
   "id": "c3634e53",
   "metadata": {},
   "outputs": [],
   "source": [
    "e = 'I '"
   ]
  },
  {
   "cell_type": "code",
   "execution_count": 22,
   "id": "85c611a7",
   "metadata": {},
   "outputs": [],
   "source": [
    "n = 'am '"
   ]
  },
  {
   "cell_type": "code",
   "execution_count": 23,
   "id": "dcdb354f",
   "metadata": {},
   "outputs": [],
   "source": [
    "p = 'hungry.'"
   ]
  },
  {
   "cell_type": "code",
   "execution_count": 24,
   "id": "60176f34",
   "metadata": {},
   "outputs": [
    {
     "data": {
      "text/plain": [
       "'I am hungry.'"
      ]
     },
     "execution_count": 24,
     "metadata": {},
     "output_type": "execute_result"
    }
   ],
   "source": [
    "e + n + p"
   ]
  },
  {
   "cell_type": "code",
   "execution_count": 25,
   "id": "711b338c",
   "metadata": {},
   "outputs": [],
   "source": [
    "a = 'hello'"
   ]
  },
  {
   "cell_type": "code",
   "execution_count": 26,
   "id": "e5bdf8a9",
   "metadata": {},
   "outputs": [
    {
     "data": {
      "text/plain": [
       "'hellohellohellohellohellohellohellohellohellohellohellohellohellohellohellohellohellohellohellohellohellohellohellohellohellohellohellohellohellohellohellohellohellohellohellohellohellohellohellohellohellohellohellohellohellohellohellohellohellohellohellohellohellohellohellohellohellohellohellohellohellohellohellohellohellohellohellohellohellohellohellohellohellohellohellohellohellohellohellohellohellohellohellohellohellohellohellohellohellohellohellohellohellohellohellohellohellohellohellohello'"
      ]
     },
     "execution_count": 26,
     "metadata": {},
     "output_type": "execute_result"
    }
   ],
   "source": [
    "a * 100"
   ]
  },
  {
   "cell_type": "code",
   "execution_count": null,
   "id": "fb80152e",
   "metadata": {},
   "outputs": [],
   "source": []
  }
 ],
 "metadata": {
  "kernelspec": {
   "display_name": "Python 3 (ipykernel)",
   "language": "python",
   "name": "python3"
  },
  "language_info": {
   "codemirror_mode": {
    "name": "ipython",
    "version": 3
   },
   "file_extension": ".py",
   "mimetype": "text/x-python",
   "name": "python",
   "nbconvert_exporter": "python",
   "pygments_lexer": "ipython3",
   "version": "3.9.13"
  }
 },
 "nbformat": 4,
 "nbformat_minor": 5
}
